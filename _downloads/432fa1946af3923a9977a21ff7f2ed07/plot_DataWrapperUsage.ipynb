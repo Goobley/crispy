{
  "cells": [
    {
      "cell_type": "code",
      "execution_count": null,
      "metadata": {
        "collapsed": false
      },
      "outputs": [],
      "source": [
        "%matplotlib inline"
      ]
    },
    {
      "cell_type": "markdown",
      "metadata": {},
      "source": [
        "\n\n# Examples Using the Main Data Wrappers from crispy\n"
      ]
    },
    {
      "cell_type": "markdown",
      "metadata": {},
      "source": [
        "Here, we provide a brief introduction on how to use the main data structures\ndefined in ``crispy.crisp``. Specifically, these examples will cover the\n``CRISP``, ``CRISPNonU``, and ``CRISPWideband`` structures.\n\n"
      ]
    },
    {
      "cell_type": "code",
      "execution_count": null,
      "metadata": {
        "collapsed": false
      },
      "outputs": [],
      "source": [
        "from crispy import CRISP, CRISPWideband\nimport warnings\n\nwarnings.filterwarnings(\"ignore\")"
      ]
    },
    {
      "cell_type": "markdown",
      "metadata": {},
      "source": [
        "## CRISP\nTo demonstrate the CRISP class we use an example of a CRISP observation from\nthe M1.1 solar flare SOL20140906T17:09 observed by SST/CRISP in\nH$\\alpha$ and Ca II 8542. The data is publicly avaiable through the\nF-CHROMA project [here](https://star.pst.qub.ac.uk/wiki/doku.php/public/solarflares/start). Below\nwe show the data for H $\\alpha$.\n\n"
      ]
    },
    {
      "cell_type": "code",
      "execution_count": null,
      "metadata": {
        "collapsed": false
      },
      "outputs": [],
      "source": [
        "crisp = CRISP(\"example_data/2014/crisp_l2_20140906_152724_6563_r00447.fits\")\nprint(crisp)"
      ]
    },
    {
      "cell_type": "markdown",
      "metadata": {},
      "source": [
        "The data structures use slicing derived from astropy's [NDData](https://docs.astropy.org/en/stable/nddata/) meaning the objects can be\ndirectly sliced to produce new objects of just the slice e.g. for only looking\nat the far blue wing data in our observation\n\n"
      ]
    },
    {
      "cell_type": "code",
      "execution_count": null,
      "metadata": {
        "collapsed": false
      },
      "outputs": [],
      "source": [
        "print(crisp[0])"
      ]
    },
    {
      "cell_type": "markdown",
      "metadata": {},
      "source": [
        "This is also the easiest way to use the plotting methods. For this\nobservation, to view an image at a specific wavelength we would use the\n``intensity_map`` instance method as shown below for the line core of the\nH $\\alpha$ observation\n\n"
      ]
    },
    {
      "cell_type": "code",
      "execution_count": null,
      "metadata": {
        "collapsed": false
      },
      "outputs": [],
      "source": [
        "crisp[7].intensity_map()"
      ]
    },
    {
      "cell_type": "markdown",
      "metadata": {},
      "source": [
        "We can then use slicing and the ``plot_spectrum`` instance method to plot the\nspectrum at a certain spatial point. Firstly though to identify the slice we\nneed we use the ``from_lonlat`` instance method, in this example we take the\npoint $(-720'', -310'')$ in the Helioprojective plane:\n\n"
      ]
    },
    {
      "cell_type": "markdown",
      "metadata": {},
      "source": [
        "<div class=\"alert alert-info\"><h4>Note</h4><p>There are complimentary instance methods ``from_lonlat`` and\n  ``to_lonlat`` which convert coordinates to/from the Helioprojective frame.\n  The format of the Helioprojective coordinates are **always** given in the\n  format (longitude, latitude) while image plane coordinates are **always**\n  given in (y,x) pixels. This is to allow the direct indexing of the objects\n  via the image plane corrdinates while maintaining the Helioprojective (and\n  other physical coordinate systems) convention of (longitude, latitude).</p></div>\n\n"
      ]
    },
    {
      "cell_type": "code",
      "execution_count": null,
      "metadata": {
        "collapsed": false
      },
      "outputs": [],
      "source": [
        "y, x = crisp.from_lonlat(-720, -310)\nprint(y, x)"
      ]
    },
    {
      "cell_type": "code",
      "execution_count": null,
      "metadata": {
        "collapsed": false
      },
      "outputs": [],
      "source": [
        "crisp[:, y, x].plot_spectrum()"
      ]
    },
    {
      "cell_type": "markdown",
      "metadata": {},
      "source": [
        "## CRISPNonU\nFor the CRISPNonU class, we choose an imaging spectropolarimetric Ca II 8542\nobservation of the X2.2 solar flare SOL20170906T09:10.\n\n"
      ]
    },
    {
      "cell_type": "code",
      "execution_count": null,
      "metadata": {
        "collapsed": false
      },
      "outputs": [],
      "source": [
        "crispnonu = CRISP(\"example_data/2017/ca_00001.zarr\")\nprint(crispnonu)"
      ]
    },
    {
      "cell_type": "markdown",
      "metadata": {},
      "source": [
        "The ``intensity_map`` and ``plot_spectrum`` methods will also work here with\nthe correct slicing -- that is, the object will need to be sliced twice for\nthe ``intensity_map`` instance method and thrice for the ``plot_spectrum``\ninstance method. The main difference from the CRISPNonU class can be seen in\nthe wavelengths sampled section: the wavelengths are sampled non-uniformly but\nthe class deals with this for us. Here, we will show the polarimetric instance\nmethods (which also exist in the ``CRISP`` class). Firstly is ``stokes_map``\nfor the line core:\n\n"
      ]
    },
    {
      "cell_type": "code",
      "execution_count": null,
      "metadata": {
        "collapsed": false
      },
      "outputs": [],
      "source": [
        "crispnonu[:, 5].stokes_map(stokes=\"all\")"
      ]
    },
    {
      "cell_type": "markdown",
      "metadata": {},
      "source": [
        "The polarimetric plotting methods take a keyword argument ``stokes`` which is\na string specifying which of the Stokes parameters the user would like to\nplot. In the example above we have used \"all\" to plot the maps of all of the\nStokes parameters at line centre. However, if the user would like to only\ndisplay Stokes I, Q and V this can be accomplished by setting ``stokes =\n\"IQV\"``.\n\n"
      ]
    },
    {
      "cell_type": "markdown",
      "metadata": {},
      "source": [
        "We can then identify a point to view the Stokes profiles using the\n``from_lonlat`` instance method as before and plot the Stokes profiles using\nthe ``plot_stokes`` instance method:\n\n"
      ]
    },
    {
      "cell_type": "code",
      "execution_count": null,
      "metadata": {
        "collapsed": false
      },
      "outputs": [],
      "source": [
        "y, x = crispnonu.from_lonlat(510, -260)\nprint(y, x)"
      ]
    },
    {
      "cell_type": "code",
      "execution_count": null,
      "metadata": {
        "collapsed": false
      },
      "outputs": [],
      "source": [
        "crispnonu[:, :, 38, 257].plot_stokes(stokes=\"all\")"
      ]
    },
    {
      "cell_type": "markdown",
      "metadata": {},
      "source": [
        "## CRISPWideband\nFor the CRISPWideband class, we use the complimentary wideband Ca II 8542 for\nthe observation shown as an example for the CRISPNonU class, above.\n\n"
      ]
    },
    {
      "cell_type": "code",
      "execution_count": null,
      "metadata": {
        "collapsed": false
      },
      "outputs": [],
      "source": [
        "crispwideband = CRISPWideband(\"example_data/2017/wideband/ca_00001.zarr\")\nprint(crispwideband)"
      ]
    },
    {
      "cell_type": "markdown",
      "metadata": {},
      "source": [
        "The CRISPWideband class has one useful plotting instance method, that is\n``intensity_map``:\n\n"
      ]
    },
    {
      "cell_type": "code",
      "execution_count": null,
      "metadata": {
        "collapsed": false
      },
      "outputs": [],
      "source": [
        "crispwideband.intensity_map()"
      ]
    },
    {
      "cell_type": "markdown",
      "metadata": {},
      "source": [
        "CRISPWideband can also utilise the ``from_lonlat`` and ``to_lonlat`` instance\nmethods.\n\n"
      ]
    }
  ],
  "metadata": {
    "kernelspec": {
      "display_name": "Python 3",
      "language": "python",
      "name": "python3"
    },
    "language_info": {
      "codemirror_mode": {
        "name": "ipython",
        "version": 3
      },
      "file_extension": ".py",
      "mimetype": "text/x-python",
      "name": "python",
      "nbconvert_exporter": "python",
      "pygments_lexer": "ipython3",
      "version": "3.8.13"
    }
  },
  "nbformat": 4,
  "nbformat_minor": 0
}