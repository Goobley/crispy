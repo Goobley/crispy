{
  "cells": [
    {
      "cell_type": "code",
      "execution_count": null,
      "metadata": {
        "collapsed": false
      },
      "outputs": [],
      "source": [
        "%matplotlib inline"
      ]
    },
    {
      "cell_type": "markdown",
      "metadata": {},
      "source": [
        "\n\n# Quick Start Guide to crispy\n"
      ]
    },
    {
      "cell_type": "markdown",
      "metadata": {},
      "source": [
        "The following is a quick guide on how to get started with crispy. This will\ncover the basic data wrapper and its constituent properties. For a more\nin-depth look at the other data wrappers please refer to `data-wrap-ex`.\n\n"
      ]
    },
    {
      "cell_type": "markdown",
      "metadata": {},
      "source": [
        "The first thing to do is to import the default data wrapper ``CRISP``. This is\nthe base used for alll of the data objects in the package. ``CRISP`` assumes\nthat your observations are either imaging spectroscopic or imaging\nspectropolarimetric (although it'll give its best at any 3D or 4D data) and is\ngiven either as a [FITS file](https://fits.gsfc.nasa.gov/fits_standard.html), a [zarr file](https://zarr.readthedocs.io/en/stable/) or an object dictionary (see\n`utils`).\n\n"
      ]
    },
    {
      "cell_type": "code",
      "execution_count": null,
      "metadata": {
        "collapsed": false
      },
      "outputs": [],
      "source": [
        "from crispy import CRISP\nimport matplotlib.pyplot as plt\nimport warnings\n\nwarnings.filterwarnings(\"ignore\")"
      ]
    },
    {
      "cell_type": "markdown",
      "metadata": {},
      "source": [
        "The only argument we need now to create our data object is the path to the\nfile:\n\n"
      ]
    },
    {
      "cell_type": "code",
      "execution_count": null,
      "metadata": {
        "collapsed": false
      },
      "outputs": [],
      "source": [
        "c_ex = CRISP(\"example_data/2014/crisp_l2_20140906_152724_6563_r00447.fits\")"
      ]
    },
    {
      "cell_type": "markdown",
      "metadata": {},
      "source": [
        "Our example object ``c_ex`` is now a ``CRISP`` object containing this\nobservation. We can get details of the following observation doing the\nfollowing\n\n"
      ]
    },
    {
      "cell_type": "code",
      "execution_count": null,
      "metadata": {
        "collapsed": false
      },
      "outputs": [],
      "source": [
        "print(c_ex)"
      ]
    },
    {
      "cell_type": "markdown",
      "metadata": {},
      "source": [
        "All data objects in crispy can be indexed in a similar manner to [numpy arrays](https://numpy.org/doc/stable/reference/arrays.indexing.html). For example,\nour data above is sampled at 15 different wavelengths, say we only wanted to\nwork with the imaging data from the fourth wavelength then we could create a\nnew object as such:\n\n"
      ]
    },
    {
      "cell_type": "code",
      "execution_count": null,
      "metadata": {
        "collapsed": false
      },
      "outputs": [],
      "source": [
        "c_sub = c_ex[3]  # remember Python indexing starts at 0!"
      ]
    },
    {
      "cell_type": "markdown",
      "metadata": {},
      "source": [
        "And this ``c_sub`` object will contain the data for only the fourth wavelength\nin our original data. This kind of slicing is useful as the whole object is\nsliced rather than just the ``.data`` property allowing us to keep everything\ntogether.\n\n"
      ]
    },
    {
      "cell_type": "markdown",
      "metadata": {},
      "source": [
        "This is also how the plotting methods work, they expect a slice of the object\notherwise an error will be thrown. For example,\n\n"
      ]
    },
    {
      "cell_type": "code",
      "execution_count": null,
      "metadata": {
        "collapsed": false
      },
      "outputs": [],
      "source": [
        "c_sub.intensity_map()\nplt.show()"
      ]
    }
  ],
  "metadata": {
    "kernelspec": {
      "display_name": "Python 3",
      "language": "python",
      "name": "python3"
    },
    "language_info": {
      "codemirror_mode": {
        "name": "ipython",
        "version": 3
      },
      "file_extension": ".py",
      "mimetype": "text/x-python",
      "name": "python",
      "nbconvert_exporter": "python",
      "pygments_lexer": "ipython3",
      "version": "3.8.13"
    }
  },
  "nbformat": 4,
  "nbformat_minor": 0
}