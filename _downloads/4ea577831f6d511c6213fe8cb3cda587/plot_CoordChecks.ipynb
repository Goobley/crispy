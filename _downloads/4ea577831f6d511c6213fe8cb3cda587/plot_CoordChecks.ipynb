{
  "cells": [
    {
      "cell_type": "code",
      "execution_count": null,
      "metadata": {
        "collapsed": false
      },
      "outputs": [],
      "source": [
        "%matplotlib inline"
      ]
    },
    {
      "cell_type": "markdown",
      "metadata": {},
      "source": [
        "\n# Basic coordinate testing\n\nThe example seeks to test most combination of plot arguments as a smoke test to\ncatch likely bugs. It isn't a substitute for proper testing, but all I have time\nfor now.\n"
      ]
    },
    {
      "cell_type": "code",
      "execution_count": null,
      "metadata": {
        "collapsed": false
      },
      "outputs": [],
      "source": [
        "from crispy import CRISP, CRISPWideband\nimport warnings\n\nwarnings.filterwarnings(\"ignore\")\nimport pytest\nimport astropy.units as u"
      ]
    },
    {
      "cell_type": "code",
      "execution_count": null,
      "metadata": {
        "collapsed": false
      },
      "outputs": [],
      "source": [
        "crisp = CRISP(\"example_data/2014/crisp_l2_20140906_152724_6563_r00447.fits\")\ny, x = crisp.from_lonlat(-720, -300)\nprint(y, x)\n\nassert crisp[:, 10:, :-10].from_lonlat(-720, -300) == (y-10, x)\nassert crisp[0, 10:].from_lonlat(-720, -300) == (y-10, x)\n\nprint(crisp.to_lonlat(y, x))\nprint(crisp[:, 10:, -10:].to_lonlat(y-10, x))\nprint(crisp[0, 10:].to_lonlat(y-10, x))"
      ]
    },
    {
      "cell_type": "code",
      "execution_count": null,
      "metadata": {
        "collapsed": false
      },
      "outputs": [],
      "source": [
        "crispnonu = CRISP(\"example_data/2017/ca_00001.zarr\")\ny, x = crispnonu.from_lonlat(510, -265)\nprint(y, x)\nassert crispnonu[:, :, 10:, :-10].from_lonlat(510, -265) == (y-10, x)\nassert crispnonu[:, 1, 10:].from_lonlat(510, -265) == (y-10, x)\nassert crispnonu[1, 4, :, 23:].from_lonlat(510, -265) == (y, x-23)\n\nprint(crispnonu.to_lonlat(y, x))\nprint(crispnonu[:, :, 10:, :-10].to_lonlat(y-10, x))\nprint(crispnonu[:, 1, 10:].to_lonlat(y-10, x))\nprint(crispnonu[1, 4, :, 23:].to_lonlat(y, x-23))"
      ]
    }
  ],
  "metadata": {
    "kernelspec": {
      "display_name": "Python 3",
      "language": "python",
      "name": "python3"
    },
    "language_info": {
      "codemirror_mode": {
        "name": "ipython",
        "version": 3
      },
      "file_extension": ".py",
      "mimetype": "text/x-python",
      "name": "python",
      "nbconvert_exporter": "python",
      "pygments_lexer": "ipython3",
      "version": "3.8.13"
    }
  },
  "nbformat": 4,
  "nbformat_minor": 0
}